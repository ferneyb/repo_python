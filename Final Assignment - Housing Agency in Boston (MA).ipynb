{
    "cells": [
        {
            "attachments": {},
            "cell_type": "markdown",
            "metadata": {
                "collapsed": true
            },
            "source": [
                "## My example -  Statistics for Data Science with Python - Ferney Tenorio Basto"
            ]
        },
        {
            "attachments": {},
            "cell_type": "markdown",
            "metadata": {},
            "source": [
                "### Load Dataset"
            ]
        },
        {
            "cell_type": "code",
            "execution_count": null,
            "metadata": {},
            "outputs": [],
            "source": [
                "#Add libraries...\n",
                "import pandas as pd\n",
                "import numpy as np\n",
                "import seaborn as sns\n",
                "import matplotlib.pyplot as plt\n",
                "import scipy.stats\n",
                "import statsmodels.api as sm"
            ]
        },
        {
            "cell_type": "code",
            "execution_count": null,
            "metadata": {},
            "outputs": [],
            "source": [
                "##In the Jupyter notebook you created in the previous task, add a code cell, and copy the contents below to load the Boston housing dataset in the notebook:\n",
                "boston_url = 'https://cf-courses-data.s3.us.cloud-object-storage.appdomain.cloud/IBMDeveloperSkillsNetwork-ST0151EN-SkillsNetwork/labs/boston_housing.csv'\n",
                "boston_df = pd.read_csv(boston_url)"
            ]
        },
        {
            "cell_type": "code",
            "execution_count": null,
            "metadata": {},
            "outputs": [],
            "source": [
                "#show csv info\n",
                "boston_df.describe()"
            ]
        },
        {
            "cell_type": "code",
            "execution_count": 2,
            "metadata": {},
            "outputs": [
                {
                    "ename": "NameError",
                    "evalue": "name 'boston_df' is not defined",
                    "output_type": "error",
                    "traceback": [
                        "\u001b[1;31m---------------------------------------------------------------------------\u001b[0m",
                        "\u001b[1;31mNameError\u001b[0m                                 Traceback (most recent call last)",
                        "Cell \u001b[1;32mIn[2], line 1\u001b[0m\n\u001b[1;32m----> 1\u001b[0m boston_df\u001b[39m.\u001b[39mhead(\u001b[39m10\u001b[39m)\n",
                        "\u001b[1;31mNameError\u001b[0m: name 'boston_df' is not defined"
                    ]
                }
            ],
            "source": [
                "boston_df.head(10)"
            ]
        },
        {
            "attachments": {},
            "cell_type": "markdown",
            "metadata": {},
            "source": [
                "### Become familiar with the dataset\n",
                "The following describes the dataset variables:\n",
                "\n",
                "·      CRIM - per capita crime rate by town\n",
                "\n",
                "·      ZN - proportion of residential land zoned for lots over 25,000 sq.ft.\n",
                "\n",
                "·      INDUS - proportion of non-retail business acres per town.\n",
                "\n",
                "·      CHAS - Charles River dummy variable (1 if tract bounds river; 0 otherwise)\n",
                "\n",
                "·      NOX - nitric oxides concentration (parts per 10 million)\n",
                "\n",
                "·      RM - average number of rooms per dwelling\n",
                "\n",
                "·      AGE - proportion of owner-occupied units built prior to 1940\n",
                "\n",
                "·      DIS - weighted distances to five Boston employment centres\n",
                "\n",
                "·      RAD - index of accessibility to radial highways\n",
                "\n",
                "·      TAX - full-value property-tax rate per $10,000\n",
                "\n",
                "·      PTRATIO - pupil-teacher ratio by town\n",
                "\n",
                "·      LSTAT - % lower status of the population\n",
                "\n",
                "·      MEDV - Median value of owner-occupied homes in $1000's"
            ]
        },
        {
            "attachments": {},
            "cell_type": "markdown",
            "metadata": {},
            "source": [
                "### Generate Descriptive Statistics and Visualizations\n",
                "#### Question 1: For the 'Median value of owner-occupied homes' provide a boxplot "
            ]
        },
        {
            "cell_type": "code",
            "execution_count": null,
            "metadata": {
                "scrolled": false
            },
            "outputs": [],
            "source": [
                "ax = sns.boxplot(y = 'MEDV', data = boston_df)\n",
                "ax.set_title('Owner-occupied homes')"
            ]
        },
        {
            "attachments": {},
            "cell_type": "markdown",
            "metadata": {},
            "source": [
                "The boxplot above shows the median value for the variable MEDV among with outliers"
            ]
        },
        {
            "attachments": {},
            "cell_type": "markdown",
            "metadata": {},
            "source": [
                "#### Question 2: Provide a histogram for the Charles River variable"
            ]
        },
        {
            "cell_type": "code",
            "execution_count": null,
            "metadata": {},
            "outputs": [],
            "source": [
                "ax2 = sns.countplot(x = 'CHAS', data = boston_df)\n",
                "ax2.set_title('Number of homes near the Charles River')"
            ]
        },
        {
            "attachments": {},
            "cell_type": "markdown",
            "metadata": {},
            "source": [
                "The histogram shows that the majority of the houses are not near the Charles River"
            ]
        },
        {
            "attachments": {},
            "cell_type": "markdown",
            "metadata": {},
            "source": [
                "#### Question 3: Provide a boxplot for the MEDV variable vs the AGE variable - Discretize the age variable into three groups of 35 years and younger, between 35 and 50 years and older"
            ]
        },
        {
            "cell_type": "code",
            "execution_count": null,
            "metadata": {},
            "outputs": [],
            "source": [
                "boston_df.loc[(boston_df['AGE'] <= 35), 'Age_Group'] = '35 years and younger'\n",
                "boston_df.loc[(boston_df['AGE'] > 35) & (boston_df['AGE'] < 70), 'Age_Group'] = 'between 35 and 70 years'\n",
                "boston_df.loc[(boston_df['AGE'] >= 70), 'Age_Group'] = '70 years and older'"
            ]
        },
        {
            "cell_type": "code",
            "execution_count": null,
            "metadata": {
                "scrolled": false
            },
            "outputs": [],
            "source": [
                "ax3 = sns.boxplot(x = 'MEDV', y = 'Age_Group', data = boston_df)\n",
                "ax3.set_title('Median value of owner-occupied homes per Age Group')"
            ]
        },
        {
            "attachments": {},
            "cell_type": "markdown",
            "metadata": {},
            "source": [
                "The boxplot above shows that on average the median value of owner occupied homes is higher when the Age is lower"
            ]
        },
        {
            "attachments": {},
            "cell_type": "markdown",
            "metadata": {},
            "source": [
                "#### Question 4: Provide a scatter plot to show the relationship between Nitric oxide concentrations and the proportion of non-retail business acres per town. What can you say about the relationship?"
            ]
        },
        {
            "cell_type": "code",
            "execution_count": null,
            "metadata": {},
            "outputs": [],
            "source": [
                "ax4 = sns.scatterplot(y = 'NOX', x = 'INDUS', data = boston_df)\n",
                "ax4.set_title('Nitric oxide concentration per proportion of non-retail business acres per town')"
            ]
        },
        {
            "attachments": {},
            "cell_type": "markdown",
            "metadata": {},
            "source": [
                "Values in the bottom-left section of the scatter plot indicates a strong relation between low Nitric oxide concentration and low proportion of non-retail business acres per town. \n",
                "\n",
                "Generally, a higher proprtion of non-retail business acres per town produces a higher concentration of Nitric oxide."
            ]
        },
        {
            "attachments": {},
            "cell_type": "markdown",
            "metadata": {},
            "source": [
                "#### Question 5: Create a histogram for the pupil to teacher ratio variable"
            ]
        },
        {
            "cell_type": "code",
            "execution_count": null,
            "metadata": {},
            "outputs": [],
            "source": [
                "ax5 = sns.countplot(x = 'PTRATIO', data = boston_df)\n",
                "ax5.set_title('Pupil to teacher ratio per town')"
            ]
        },
        {
            "attachments": {},
            "cell_type": "markdown",
            "metadata": {},
            "source": [
                "## Tests for Statistics\n",
                "#### Question 6: Is there a significant difference in median value of houses bounded by the Charles river or not? (T-test for independent samples)"
            ]
        },
        {
            "attachments": {},
            "cell_type": "markdown",
            "metadata": {},
            "source": [
                "Hypothesis:\n",
                "\n",
                "Null Hypothesis -> There's no significant difference in median value between houses bounded and not bounded by the Charles River\n",
                "\n",
                "Alternative Hypothesis -> There's a significant difference in median value between houses bounded and not bounded by the Charles River"
            ]
        },
        {
            "cell_type": "code",
            "execution_count": null,
            "metadata": {},
            "outputs": [],
            "source": [
                "boston_df.loc[(boston_df['CHAS'] == 0), 'CHAS_T'] = 'FAR'\n",
                "boston_df.loc[(boston_df['CHAS'] == 1), 'CHAS_T'] = 'NEAR'\n",
                "boston_df.head(5)"
            ]
        },
        {
            "cell_type": "code",
            "execution_count": null,
            "metadata": {},
            "outputs": [],
            "source": [
                "scipy.stats.ttest_ind(boston_df[boston_df['CHAS_T'] == 'FAR']['MEDV'], \n",
                "                      boston_df[boston_df['CHAS_T'] == 'NEAR']['MEDV'], equal_var = True)"
            ]
        },
        {
            "attachments": {},
            "cell_type": "markdown",
            "metadata": {},
            "source": [
                "Given the p-value is less than 0.05, we reject the Null Hypothesis, meaning there is not a statistical difference in median value betwenn houses near the Charles River and houses far away"
            ]
        },
        {
            "attachments": {},
            "cell_type": "markdown",
            "metadata": {},
            "source": [
                "#### Question 7: Is there a difference in Median values of houses (MEDV) for each proportion of owner occupied units built prior to 1940 (AGE)? (ANOVA)"
            ]
        },
        {
            "attachments": {},
            "cell_type": "markdown",
            "metadata": {},
            "source": [
                "Hypothesis\n",
                "    \n",
                "    Null Hypotesis: There isn't statistical difference in Median values of houses (MEDV) for each proportion of owner occpied units built prior to 1940\n",
                "    \n",
                "    Alternative Hypothesis: There is statistical difference in Median values of houses (MEDV) for each proportion of owner occpied units built prior to 1940\n",
                "   "
            ]
        },
        {
            "cell_type": "code",
            "execution_count": null,
            "metadata": {},
            "outputs": [],
            "source": [
                "from statsmodels.formula.api import ols\n",
                "lm = ols('MEDV ~ AGE', data = boston_df).fit()\n",
                "table = sm.stats.anova_lm(lm)\n",
                "print(table)"
            ]
        },
        {
            "attachments": {},
            "cell_type": "markdown",
            "metadata": {},
            "source": [
                "Given p-value is less than 0.05, we fail to accept the Null Hypothesis --> There is statistical difference in Median values of houses (MEDV) for each proportion of owner occpied units built prior to 1940"
            ]
        },
        {
            "attachments": {},
            "cell_type": "markdown",
            "metadata": {},
            "source": [
                "#### Question 8: Can we conclude that there is no relationship between Nitric oxide concentrations and proportion of non-retail business acres per town? (Pearson Correlation)"
            ]
        },
        {
            "attachments": {},
            "cell_type": "markdown",
            "metadata": {},
            "source": [
                "Null Hypothesis: Nitric Oxide concentration is not correlated with the proportion of non-retail business acres per town\n",
                "\n",
                "Alternative Hypothesis: Nitric Oxide concentration is correlated with the proportion of non-retail business acres per town"
            ]
        },
        {
            "cell_type": "code",
            "execution_count": null,
            "metadata": {},
            "outputs": [],
            "source": [
                "scipy.stats.pearsonr(boston_df['NOX'], boston_df['INDUS'])"
            ]
        },
        {
            "attachments": {},
            "cell_type": "markdown",
            "metadata": {},
            "source": [
                "Given the Pearson Coefficient is 0.76365 and p-value less than 0.05, we reject the Null Hypothesis as there is a positive correlation between Nitric oxide concentration and proportion of non-retail business acres per town\n",
                "\n",
                "The positive relationship is confirmed also with the Scatter Plot (Question 4)"
            ]
        },
        {
            "attachments": {},
            "cell_type": "markdown",
            "metadata": {},
            "source": [
                "#### Question 9: What is the impact of an additional weighted distance  to the five Boston employment centres on the median value of owner occupied homes? (Regression analysis)"
            ]
        },
        {
            "cell_type": "code",
            "execution_count": null,
            "metadata": {},
            "outputs": [],
            "source": [
                "x = boston_df['DIS']\n",
                "y = boston_df['MEDV']\n",
                "\n",
                "x = sm.add_constant(x)\n",
                "\n",
                "model = sm.OLS(y, x).fit()\n",
                "predisction = model.predict(x)\n",
                "\n",
                "model.summary()"
            ]
        },
        {
            "attachments": {},
            "cell_type": "markdown",
            "metadata": {},
            "source": [
                "The coef DIS of 1.0916 indicates that an additional weighted distance to the 5 empolyment centers in boston increases of 1.0916 the median value of owner occupied homes "
            ]
        },
        {
            "cell_type": "code",
            "execution_count": null,
            "metadata": {},
            "outputs": [],
            "source": []
        }
    ],
    "metadata": {
        "kernelspec": {
            "display_name": "Python 3.7",
            "language": "python",
            "name": "python3"
        },
        "language_info": {
            "codemirror_mode": {
                "name": "ipython",
                "version": 3
            },
            "file_extension": ".py",
            "mimetype": "text/x-python",
            "name": "python",
            "nbconvert_exporter": "python",
            "pygments_lexer": "ipython3",
            "version": "3.11.2"
        }
    },
    "nbformat": 4,
    "nbformat_minor": 1
}
