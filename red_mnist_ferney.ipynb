{
  "nbformat": 4,
  "nbformat_minor": 0,
  "metadata": {
    "colab": {
      "provenance": []
    },
    "kernelspec": {
      "name": "python3",
      "display_name": "Python 3"
    },
    "language_info": {
      "name": "python"
    },
    "widgets": {
      "application/vnd.jupyter.widget-state+json": {
        "7fc801345944412d9332fdef24f9c35c": {
          "model_module": "@jupyter-widgets/controls",
          "model_name": "HBoxModel",
          "model_module_version": "1.5.0",
          "state": {
            "_dom_classes": [],
            "_model_module": "@jupyter-widgets/controls",
            "_model_module_version": "1.5.0",
            "_model_name": "HBoxModel",
            "_view_count": null,
            "_view_module": "@jupyter-widgets/controls",
            "_view_module_version": "1.5.0",
            "_view_name": "HBoxView",
            "box_style": "",
            "children": [
              "IPY_MODEL_ab3bc79a258f4c68a32ef6b1aefd589e",
              "IPY_MODEL_abae08814a1f420abb043c5590027361",
              "IPY_MODEL_9c10945bf2954509a477e7a121f526be"
            ],
            "layout": "IPY_MODEL_b4926a42794c4817abefa7fb490b96b0"
          }
        },
        "ab3bc79a258f4c68a32ef6b1aefd589e": {
          "model_module": "@jupyter-widgets/controls",
          "model_name": "HTMLModel",
          "model_module_version": "1.5.0",
          "state": {
            "_dom_classes": [],
            "_model_module": "@jupyter-widgets/controls",
            "_model_module_version": "1.5.0",
            "_model_name": "HTMLModel",
            "_view_count": null,
            "_view_module": "@jupyter-widgets/controls",
            "_view_module_version": "1.5.0",
            "_view_name": "HTMLView",
            "description": "",
            "description_tooltip": null,
            "layout": "IPY_MODEL_2b87b8bcbfed4eb8aca1ebeeb78c91a3",
            "placeholder": "​",
            "style": "IPY_MODEL_e32c70b0342c476e9183491b88631c00",
            "value": "Dl Completed...: 100%"
          }
        },
        "abae08814a1f420abb043c5590027361": {
          "model_module": "@jupyter-widgets/controls",
          "model_name": "FloatProgressModel",
          "model_module_version": "1.5.0",
          "state": {
            "_dom_classes": [],
            "_model_module": "@jupyter-widgets/controls",
            "_model_module_version": "1.5.0",
            "_model_name": "FloatProgressModel",
            "_view_count": null,
            "_view_module": "@jupyter-widgets/controls",
            "_view_module_version": "1.5.0",
            "_view_name": "ProgressView",
            "bar_style": "success",
            "description": "",
            "description_tooltip": null,
            "layout": "IPY_MODEL_a348d651b7fa405cbe0ace112d990c99",
            "max": 5,
            "min": 0,
            "orientation": "horizontal",
            "style": "IPY_MODEL_72f990134a5e47a8a1ca8542940fcaa1",
            "value": 5
          }
        },
        "9c10945bf2954509a477e7a121f526be": {
          "model_module": "@jupyter-widgets/controls",
          "model_name": "HTMLModel",
          "model_module_version": "1.5.0",
          "state": {
            "_dom_classes": [],
            "_model_module": "@jupyter-widgets/controls",
            "_model_module_version": "1.5.0",
            "_model_name": "HTMLModel",
            "_view_count": null,
            "_view_module": "@jupyter-widgets/controls",
            "_view_module_version": "1.5.0",
            "_view_name": "HTMLView",
            "description": "",
            "description_tooltip": null,
            "layout": "IPY_MODEL_b7a50fae55a449a5af518453cf476589",
            "placeholder": "​",
            "style": "IPY_MODEL_0e945abba20e41f993fdb8710cf87c63",
            "value": " 5/5 [00:00&lt;00:00,  7.07 file/s]"
          }
        },
        "b4926a42794c4817abefa7fb490b96b0": {
          "model_module": "@jupyter-widgets/base",
          "model_name": "LayoutModel",
          "model_module_version": "1.2.0",
          "state": {
            "_model_module": "@jupyter-widgets/base",
            "_model_module_version": "1.2.0",
            "_model_name": "LayoutModel",
            "_view_count": null,
            "_view_module": "@jupyter-widgets/base",
            "_view_module_version": "1.2.0",
            "_view_name": "LayoutView",
            "align_content": null,
            "align_items": null,
            "align_self": null,
            "border": null,
            "bottom": null,
            "display": null,
            "flex": null,
            "flex_flow": null,
            "grid_area": null,
            "grid_auto_columns": null,
            "grid_auto_flow": null,
            "grid_auto_rows": null,
            "grid_column": null,
            "grid_gap": null,
            "grid_row": null,
            "grid_template_areas": null,
            "grid_template_columns": null,
            "grid_template_rows": null,
            "height": null,
            "justify_content": null,
            "justify_items": null,
            "left": null,
            "margin": null,
            "max_height": null,
            "max_width": null,
            "min_height": null,
            "min_width": null,
            "object_fit": null,
            "object_position": null,
            "order": null,
            "overflow": null,
            "overflow_x": null,
            "overflow_y": null,
            "padding": null,
            "right": null,
            "top": null,
            "visibility": null,
            "width": null
          }
        },
        "2b87b8bcbfed4eb8aca1ebeeb78c91a3": {
          "model_module": "@jupyter-widgets/base",
          "model_name": "LayoutModel",
          "model_module_version": "1.2.0",
          "state": {
            "_model_module": "@jupyter-widgets/base",
            "_model_module_version": "1.2.0",
            "_model_name": "LayoutModel",
            "_view_count": null,
            "_view_module": "@jupyter-widgets/base",
            "_view_module_version": "1.2.0",
            "_view_name": "LayoutView",
            "align_content": null,
            "align_items": null,
            "align_self": null,
            "border": null,
            "bottom": null,
            "display": null,
            "flex": null,
            "flex_flow": null,
            "grid_area": null,
            "grid_auto_columns": null,
            "grid_auto_flow": null,
            "grid_auto_rows": null,
            "grid_column": null,
            "grid_gap": null,
            "grid_row": null,
            "grid_template_areas": null,
            "grid_template_columns": null,
            "grid_template_rows": null,
            "height": null,
            "justify_content": null,
            "justify_items": null,
            "left": null,
            "margin": null,
            "max_height": null,
            "max_width": null,
            "min_height": null,
            "min_width": null,
            "object_fit": null,
            "object_position": null,
            "order": null,
            "overflow": null,
            "overflow_x": null,
            "overflow_y": null,
            "padding": null,
            "right": null,
            "top": null,
            "visibility": null,
            "width": null
          }
        },
        "e32c70b0342c476e9183491b88631c00": {
          "model_module": "@jupyter-widgets/controls",
          "model_name": "DescriptionStyleModel",
          "model_module_version": "1.5.0",
          "state": {
            "_model_module": "@jupyter-widgets/controls",
            "_model_module_version": "1.5.0",
            "_model_name": "DescriptionStyleModel",
            "_view_count": null,
            "_view_module": "@jupyter-widgets/base",
            "_view_module_version": "1.2.0",
            "_view_name": "StyleView",
            "description_width": ""
          }
        },
        "a348d651b7fa405cbe0ace112d990c99": {
          "model_module": "@jupyter-widgets/base",
          "model_name": "LayoutModel",
          "model_module_version": "1.2.0",
          "state": {
            "_model_module": "@jupyter-widgets/base",
            "_model_module_version": "1.2.0",
            "_model_name": "LayoutModel",
            "_view_count": null,
            "_view_module": "@jupyter-widgets/base",
            "_view_module_version": "1.2.0",
            "_view_name": "LayoutView",
            "align_content": null,
            "align_items": null,
            "align_self": null,
            "border": null,
            "bottom": null,
            "display": null,
            "flex": null,
            "flex_flow": null,
            "grid_area": null,
            "grid_auto_columns": null,
            "grid_auto_flow": null,
            "grid_auto_rows": null,
            "grid_column": null,
            "grid_gap": null,
            "grid_row": null,
            "grid_template_areas": null,
            "grid_template_columns": null,
            "grid_template_rows": null,
            "height": null,
            "justify_content": null,
            "justify_items": null,
            "left": null,
            "margin": null,
            "max_height": null,
            "max_width": null,
            "min_height": null,
            "min_width": null,
            "object_fit": null,
            "object_position": null,
            "order": null,
            "overflow": null,
            "overflow_x": null,
            "overflow_y": null,
            "padding": null,
            "right": null,
            "top": null,
            "visibility": null,
            "width": null
          }
        },
        "72f990134a5e47a8a1ca8542940fcaa1": {
          "model_module": "@jupyter-widgets/controls",
          "model_name": "ProgressStyleModel",
          "model_module_version": "1.5.0",
          "state": {
            "_model_module": "@jupyter-widgets/controls",
            "_model_module_version": "1.5.0",
            "_model_name": "ProgressStyleModel",
            "_view_count": null,
            "_view_module": "@jupyter-widgets/base",
            "_view_module_version": "1.2.0",
            "_view_name": "StyleView",
            "bar_color": null,
            "description_width": ""
          }
        },
        "b7a50fae55a449a5af518453cf476589": {
          "model_module": "@jupyter-widgets/base",
          "model_name": "LayoutModel",
          "model_module_version": "1.2.0",
          "state": {
            "_model_module": "@jupyter-widgets/base",
            "_model_module_version": "1.2.0",
            "_model_name": "LayoutModel",
            "_view_count": null,
            "_view_module": "@jupyter-widgets/base",
            "_view_module_version": "1.2.0",
            "_view_name": "LayoutView",
            "align_content": null,
            "align_items": null,
            "align_self": null,
            "border": null,
            "bottom": null,
            "display": null,
            "flex": null,
            "flex_flow": null,
            "grid_area": null,
            "grid_auto_columns": null,
            "grid_auto_flow": null,
            "grid_auto_rows": null,
            "grid_column": null,
            "grid_gap": null,
            "grid_row": null,
            "grid_template_areas": null,
            "grid_template_columns": null,
            "grid_template_rows": null,
            "height": null,
            "justify_content": null,
            "justify_items": null,
            "left": null,
            "margin": null,
            "max_height": null,
            "max_width": null,
            "min_height": null,
            "min_width": null,
            "object_fit": null,
            "object_position": null,
            "order": null,
            "overflow": null,
            "overflow_x": null,
            "overflow_y": null,
            "padding": null,
            "right": null,
            "top": null,
            "visibility": null,
            "width": null
          }
        },
        "0e945abba20e41f993fdb8710cf87c63": {
          "model_module": "@jupyter-widgets/controls",
          "model_name": "DescriptionStyleModel",
          "model_module_version": "1.5.0",
          "state": {
            "_model_module": "@jupyter-widgets/controls",
            "_model_module_version": "1.5.0",
            "_model_name": "DescriptionStyleModel",
            "_view_count": null,
            "_view_module": "@jupyter-widgets/base",
            "_view_module_version": "1.2.0",
            "_view_name": "StyleView",
            "description_width": ""
          }
        }
      }
    }
  },
  "cells": [
    {
      "cell_type": "code",
      "execution_count": 12,
      "metadata": {
        "id": "O0lBDvqRop8X"
      },
      "outputs": [],
      "source": [
        "import tensorflow as tf\n",
        "import tensorflow_datasets as tfds\n",
        "from keras.models import Sequential\n",
        "import math\n",
        "from keras.layers import Dense, Conv2D, Dropout, Flatten, MaxPooling2D\n",
        "import numpy as np\n",
        "import matplotlib.pyplot as plt\n",
        "from matplotlib import style\n",
        "import pandas as pd\n",
        "import seaborn as sn"
      ]
    },
    {
      "cell_type": "code",
      "source": [
        "#Carga de datos de mnist (set de entrenamiento y de pruebas)\n",
        "dataset, metadata = tfds.load('mnist', as_supervised=True, with_info=True)\n",
        "train_dataset, test_dataset = dataset['train'], dataset['test']\n",
        "\n",
        "#Etiquetas\n",
        "class_names = metadata.features['label'].names"
      ],
      "metadata": {
        "id": "_bwxwPi3otXd",
        "colab": {
          "base_uri": "https://localhost:8080/",
          "height": 84,
          "referenced_widgets": [
            "7fc801345944412d9332fdef24f9c35c",
            "ab3bc79a258f4c68a32ef6b1aefd589e",
            "abae08814a1f420abb043c5590027361",
            "9c10945bf2954509a477e7a121f526be",
            "b4926a42794c4817abefa7fb490b96b0",
            "2b87b8bcbfed4eb8aca1ebeeb78c91a3",
            "e32c70b0342c476e9183491b88631c00",
            "a348d651b7fa405cbe0ace112d990c99",
            "72f990134a5e47a8a1ca8542940fcaa1",
            "b7a50fae55a449a5af518453cf476589",
            "0e945abba20e41f993fdb8710cf87c63"
          ]
        },
        "outputId": "8016cbcc-367c-49cc-d444-e4e8b85e0f60"
      },
      "execution_count": 13,
      "outputs": [
        {
          "output_type": "stream",
          "name": "stdout",
          "text": [
            "Downloading and preparing dataset 11.06 MiB (download: 11.06 MiB, generated: 21.00 MiB, total: 32.06 MiB) to /root/tensorflow_datasets/mnist/3.0.1...\n"
          ]
        },
        {
          "output_type": "display_data",
          "data": {
            "text/plain": [
              "Dl Completed...:   0%|          | 0/5 [00:00<?, ? file/s]"
            ],
            "application/vnd.jupyter.widget-view+json": {
              "version_major": 2,
              "version_minor": 0,
              "model_id": "7fc801345944412d9332fdef24f9c35c"
            }
          },
          "metadata": {}
        },
        {
          "output_type": "stream",
          "name": "stdout",
          "text": [
            "Dataset mnist downloaded and prepared to /root/tensorflow_datasets/mnist/3.0.1. Subsequent calls will reuse this data.\n"
          ]
        }
      ]
    },
    {
      "cell_type": "code",
      "source": [
        "num_train_examples = metadata.splits['train'].num_examples\n",
        "num_test_examples = metadata.splits['test'].num_examples\n",
        "input_shape = (28, 28, 1)"
      ],
      "metadata": {
        "id": "lKy9NEnmo0k2"
      },
      "execution_count": 14,
      "outputs": []
    },
    {
      "cell_type": "code",
      "source": [
        "def normalize(images, labels):\n",
        "    images = tf.cast(images, tf.float32)\n",
        "    images /= 255\n",
        "    return images, labels"
      ],
      "metadata": {
        "id": "6rWbwAMko3f_"
      },
      "execution_count": 15,
      "outputs": []
    },
    {
      "cell_type": "code",
      "source": [
        "train_dataset = train_dataset.map(normalize)\n",
        "test_dataset = test_dataset.map(normalize)\n"
      ],
      "metadata": {
        "id": "SEiuA-2to59X"
      },
      "execution_count": 16,
      "outputs": []
    },
    {
      "cell_type": "code",
      "source": [
        "##buffer para mantener los datos en la memoria para un rendimiento más rápido\n",
        "#AUTOTUNE = tf.data.AUTOTUNE\n",
        "#train_dataset = train_dataset.cache().shuffle(1000).prefetch(buffer_size=AUTOTUNE)\n",
        "#test_dataset = test_dataset.cache().prefetch(buffer_size=AUTOTUNE)\n",
        "\n",
        "#buffer para mantener los datos en la memoria para un rendimiento más rápido\n",
        "train_dataset = train_dataset.cache()\n",
        "test_dataset = test_dataset.cache()"
      ],
      "metadata": {
        "id": "CUVGHRaIqmjq"
      },
      "execution_count": 17,
      "outputs": []
    },
    {
      "cell_type": "code",
      "source": [
        "model = Sequential()\n",
        "#Capa convolucional de 32\n",
        "model.add(Conv2D(32,kernel_size=(3,3),input_shape=input_shape, activation=tf.nn.relu))\n",
        "model.add(MaxPooling2D(pool_size=(2, 2)))\n",
        "\n",
        "#Capa convolucional de 64\n",
        "model.add(Conv2D(64, kernel_size=(3,3), activation=tf.nn.relu))\n",
        "model.add(MaxPooling2D(pool_size=(2, 2)))\n",
        "\n",
        "model.add(Dropout(0.2))\n",
        "\n",
        "model.add(Flatten())\n",
        "model.add(Dense(units=100, activation=tf.nn.relu))\n",
        "model.add(Dense(units=10,activation=tf.nn.softmax))\n",
        "\n",
        "model.summary()"
      ],
      "metadata": {
        "colab": {
          "base_uri": "https://localhost:8080/"
        },
        "id": "SYxAApzqpCDH",
        "outputId": "2662c1ec-4244-4dcd-c863-ac148be0243e"
      },
      "execution_count": 18,
      "outputs": [
        {
          "output_type": "stream",
          "name": "stdout",
          "text": [
            "Model: \"sequential\"\n",
            "_________________________________________________________________\n",
            " Layer (type)                Output Shape              Param #   \n",
            "=================================================================\n",
            " conv2d (Conv2D)             (None, 26, 26, 32)        320       \n",
            "                                                                 \n",
            " max_pooling2d (MaxPooling2  (None, 13, 13, 32)        0         \n",
            " D)                                                              \n",
            "                                                                 \n",
            " conv2d_1 (Conv2D)           (None, 11, 11, 64)        18496     \n",
            "                                                                 \n",
            " max_pooling2d_1 (MaxPoolin  (None, 5, 5, 64)          0         \n",
            " g2D)                                                            \n",
            "                                                                 \n",
            " dropout (Dropout)           (None, 5, 5, 64)          0         \n",
            "                                                                 \n",
            " flatten (Flatten)           (None, 1600)              0         \n",
            "                                                                 \n",
            " dense (Dense)               (None, 100)               160100    \n",
            "                                                                 \n",
            " dense_1 (Dense)             (None, 10)                1010      \n",
            "                                                                 \n",
            "=================================================================\n",
            "Total params: 179926 (702.84 KB)\n",
            "Trainable params: 179926 (702.84 KB)\n",
            "Non-trainable params: 0 (0.00 Byte)\n",
            "_________________________________________________________________\n"
          ]
        }
      ]
    },
    {
      "cell_type": "code",
      "source": [
        "#Indicar las funciones a utilizar\n",
        "model.compile(optimizer=tf.keras.optimizers.Adam(), loss=tf.keras.losses.SparseCategoricalCrossentropy(), metrics=[tf.keras.metrics.SparseCategoricalAccuracy()])"
      ],
      "metadata": {
        "id": "OGWCL1dmpeHY"
      },
      "execution_count": 19,
      "outputs": []
    },
    {
      "cell_type": "code",
      "source": [
        "#Aprendizaje por lotes de 32 cada lote\n",
        "BATCHSIZE = 32\n",
        "train_dataset = train_dataset.repeat().shuffle(num_train_examples).batch(BATCHSIZE)\n",
        "test_dataset = test_dataset.batch(BATCHSIZE)"
      ],
      "metadata": {
        "id": "hZxwf497pi_I"
      },
      "execution_count": 20,
      "outputs": []
    },
    {
      "cell_type": "code",
      "source": [
        "#Realizar el entrenamiento\n",
        "\n",
        "model.fit(train_dataset,epochs=25,batch_size=BATCHSIZE,steps_per_epoch=math.ceil(num_train_examples/BATCHSIZE))\n",
        "#guardar----\n",
        "model_name = 'red_ferney.h5'\n",
        "model.save(model_name, save_format='h5')"
      ],
      "metadata": {
        "colab": {
          "base_uri": "https://localhost:8080/"
        },
        "id": "aqcQD-Pgplu4",
        "outputId": "720de1d6-77d4-49b4-ec2d-ba73173cb477"
      },
      "execution_count": null,
      "outputs": [
        {
          "output_type": "stream",
          "name": "stdout",
          "text": [
            "Epoch 1/25\n",
            "1875/1875 [==============================] - 76s 35ms/step - loss: 0.1403 - sparse_categorical_accuracy: 0.9582\n",
            "Epoch 2/25\n",
            "1875/1875 [==============================] - 58s 31ms/step - loss: 0.0496 - sparse_categorical_accuracy: 0.9845\n",
            "Epoch 3/25\n",
            "1875/1875 [==============================] - 57s 30ms/step - loss: 0.0328 - sparse_categorical_accuracy: 0.9898\n",
            "Epoch 4/25\n",
            "1875/1875 [==============================] - 57s 30ms/step - loss: 0.0284 - sparse_categorical_accuracy: 0.9911\n",
            "Epoch 5/25\n",
            "1875/1875 [==============================] - 58s 31ms/step - loss: 0.0220 - sparse_categorical_accuracy: 0.9929\n",
            "Epoch 6/25\n",
            "1875/1875 [==============================] - 56s 30ms/step - loss: 0.0171 - sparse_categorical_accuracy: 0.9945\n",
            "Epoch 7/25\n",
            "1875/1875 [==============================] - 56s 30ms/step - loss: 0.0146 - sparse_categorical_accuracy: 0.9950\n",
            "Epoch 8/25\n",
            "1875/1875 [==============================] - 57s 30ms/step - loss: 0.0130 - sparse_categorical_accuracy: 0.9956\n",
            "Epoch 9/25\n",
            "1875/1875 [==============================] - 57s 30ms/step - loss: 0.0108 - sparse_categorical_accuracy: 0.9964\n",
            "Epoch 10/25\n",
            "1875/1875 [==============================] - 56s 30ms/step - loss: 0.0096 - sparse_categorical_accuracy: 0.9967\n",
            "Epoch 11/25\n",
            "1875/1875 [==============================] - 56s 30ms/step - loss: 0.0088 - sparse_categorical_accuracy: 0.9970\n",
            "Epoch 12/25\n",
            "1875/1875 [==============================] - 57s 30ms/step - loss: 0.0088 - sparse_categorical_accuracy: 0.9972\n",
            "Epoch 13/25\n",
            "1875/1875 [==============================] - 57s 30ms/step - loss: 0.0070 - sparse_categorical_accuracy: 0.9976\n",
            "Epoch 14/25\n",
            "1875/1875 [==============================] - 56s 30ms/step - loss: 0.0081 - sparse_categorical_accuracy: 0.9971\n",
            "Epoch 15/25\n",
            "1875/1875 [==============================] - 56s 30ms/step - loss: 0.0067 - sparse_categorical_accuracy: 0.9979\n",
            "Epoch 16/25\n",
            "1875/1875 [==============================] - 57s 30ms/step - loss: 0.0065 - sparse_categorical_accuracy: 0.9979\n",
            "Epoch 17/25\n",
            "1875/1875 [==============================] - 56s 30ms/step - loss: 0.0056 - sparse_categorical_accuracy: 0.9980\n",
            "Epoch 18/25\n",
            "1875/1875 [==============================] - 56s 30ms/step - loss: 0.0064 - sparse_categorical_accuracy: 0.9980\n",
            "Epoch 19/25\n",
            "1875/1875 [==============================] - 56s 30ms/step - loss: 0.0048 - sparse_categorical_accuracy: 0.9983\n",
            "Epoch 20/25\n",
            "1875/1875 [==============================] - 57s 30ms/step - loss: 0.0050 - sparse_categorical_accuracy: 0.9984\n",
            "Epoch 21/25\n",
            "1875/1875 [==============================] - 56s 30ms/step - loss: 0.0044 - sparse_categorical_accuracy: 0.9986\n",
            "Epoch 22/25\n",
            "1875/1875 [==============================] - 56s 30ms/step - loss: 0.0052 - sparse_categorical_accuracy: 0.9983\n",
            "Epoch 23/25\n",
            "1875/1875 [==============================] - 56s 30ms/step - loss: 0.0050 - sparse_categorical_accuracy: 0.9984\n",
            "Epoch 24/25\n",
            "1875/1875 [==============================] - 56s 30ms/step - loss: 0.0054 - sparse_categorical_accuracy: 0.9983\n",
            "Epoch 25/25\n",
            "1875/1875 [==============================] - 57s 31ms/step - loss: 0.0044 - sparse_categorical_accuracy: 0.9986\n"
          ]
        },
        {
          "output_type": "stream",
          "name": "stderr",
          "text": [
            "/usr/local/lib/python3.10/dist-packages/keras/src/engine/training.py:3000: UserWarning: You are saving your model as an HDF5 file via `model.save()`. This file format is considered legacy. We recommend using instead the native Keras format, e.g. `model.save('my_model.keras')`.\n",
            "  saving_api.save_model(\n"
          ]
        }
      ]
    },
    {
      "cell_type": "code",
      "source": [
        "#cargar el archivo h5\n",
        "model_name = 'red_ferney.h5'\n",
        "loaded_model = tf.keras.models.load_model(model_name)\n",
        "# Re-evaluar el modelo\n",
        "loaded_model.load_weights(model_name)\n",
        "# ver descripcion...\n",
        "loaded_model.summary()"
      ],
      "metadata": {
        "id": "-Mf4yF2H7JgD",
        "colab": {
          "base_uri": "https://localhost:8080/"
        },
        "outputId": "1514b3ac-7b63-4936-e37a-1705ae756def"
      },
      "execution_count": 23,
      "outputs": [
        {
          "output_type": "stream",
          "name": "stdout",
          "text": [
            "Model: \"sequential_31\"\n",
            "_________________________________________________________________\n",
            " Layer (type)                Output Shape              Param #   \n",
            "=================================================================\n",
            " conv2d_56 (Conv2D)          (None, 26, 26, 32)        320       \n",
            "                                                                 \n",
            " max_pooling2d_56 (MaxPooli  (None, 13, 13, 32)        0         \n",
            " ng2D)                                                           \n",
            "                                                                 \n",
            " conv2d_57 (Conv2D)          (None, 11, 11, 64)        18496     \n",
            "                                                                 \n",
            " max_pooling2d_57 (MaxPooli  (None, 5, 5, 64)          0         \n",
            " ng2D)                                                           \n",
            "                                                                 \n",
            " dropout_27 (Dropout)        (None, 5, 5, 64)          0         \n",
            "                                                                 \n",
            " flatten_27 (Flatten)        (None, 1600)              0         \n",
            "                                                                 \n",
            " dense_54 (Dense)            (None, 100)               160100    \n",
            "                                                                 \n",
            " dense_55 (Dense)            (None, 10)                1010      \n",
            "                                                                 \n",
            "=================================================================\n",
            "Total params: 179926 (702.84 KB)\n",
            "Trainable params: 179926 (702.84 KB)\n",
            "Non-trainable params: 0 (0.00 Byte)\n",
            "_________________________________________________________________\n"
          ]
        }
      ]
    },
    {
      "cell_type": "code",
      "source": [
        "\n",
        "print(class_names)"
      ],
      "metadata": {
        "id": "DiyBu3caNmSx",
        "colab": {
          "base_uri": "https://localhost:8080/"
        },
        "outputId": "f70c23cb-3306-4ab2-9e74-ebc1b18dc6ec"
      },
      "execution_count": 24,
      "outputs": [
        {
          "output_type": "stream",
          "name": "stdout",
          "text": [
            "['0', '1', '2', '3', '4', '5', '6', '7', '8', '9']\n"
          ]
        }
      ]
    },
    {
      "cell_type": "code",
      "source": [
        "plt.figure(figsize=(10, 10))\n",
        "for images, labels in train_dataset.take(1):\n",
        "  for i in range(10):\n",
        "    ax = plt.subplot(4, 4, i + 1)\n",
        "    plt.imshow(images[i].numpy().astype(\"float32\"),cmap='binary')\n",
        "    f='Numero : ',format(class_names[labels[i]])\n",
        "    plt.title(f)\n",
        "    plt.axis(\"on\")\n",
        "\n",
        "plt.subplots_adjust(hspace=0.5, wspace=0.5)\n",
        "plt.show()"
      ],
      "metadata": {
        "colab": {
          "base_uri": "https://localhost:8080/",
          "height": 643
        },
        "id": "oTVI1aB1BFHk",
        "outputId": "47446fca-ff29-42c9-a011-fd757a391e4d"
      },
      "execution_count": 25,
      "outputs": [
        {
          "output_type": "display_data",
          "data": {
            "text/plain": [
              "<Figure size 1000x1000 with 10 Axes>"
            ],
            "image/png": "[encoded data removed]"
          },
          "metadata": {}
        }
      ]
    },
    {
      "cell_type": "code",
      "source": [
        "def draw(a):\n",
        "  for images, labels in train_dataset.take(1):\n",
        "\n",
        "      ax = plt.subplot(4, 4, a + 1)\n",
        "      plt.imshow(images[a].numpy().astype(\"float32\"),cmap='binary')\n",
        "      f='Numero : ',format(class_names[labels[i]])\n",
        "      plt.title(f)\n",
        "      plt.axis(\"on\")\n",
        "  plt.show()"
      ],
      "metadata": {
        "id": "CWriYZ2QiP2z"
      },
      "execution_count": 29,
      "outputs": []
    },
    {
      "cell_type": "code",
      "source": [
        "draw(6)"
      ],
      "metadata": {
        "colab": {
          "base_uri": "https://localhost:8080/",
          "height": 163
        },
        "id": "5mTATEXsi4AA",
        "outputId": "3f262e69-09ed-4087-d9c3-cf444a16f36d"
      },
      "execution_count": 68,
      "outputs": [
        {
          "output_type": "display_data",
          "data": {
            "text/plain": [
              "<Figure size 640x480 with 1 Axes>"
            ],
            "image/png": "[encoded data removed]"
          },
          "metadata": {}
        }
      ]
    }
  ]
}